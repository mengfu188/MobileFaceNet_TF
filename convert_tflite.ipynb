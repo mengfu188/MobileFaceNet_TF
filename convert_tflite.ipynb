{
 "cells": [
  {
   "cell_type": "code",
   "execution_count": null,
   "metadata": {},
   "outputs": [],
   "source": [
    "nohup python train_nets.py \\\n",
    "--class_number 10572 \\\n",
    "--pretrained_model output/ckpt \\\n",
    "--eval_db_path /workspace/dataset/faces_webface_112x112/ \\\n",
    "--tfrecords_file_path /workspace/dataset/faces_webface_112x112/tfrecords &"
   ]
  },
  {
   "cell_type": "code",
   "execution_count": 2,
   "metadata": {},
   "outputs": [],
   "source": [
    "import tensorflow as tf"
   ]
  },
  {
   "cell_type": "markdown",
   "metadata": {},
   "source": [
    "# 定义模型"
   ]
  },
  {
   "cell_type": "code",
   "execution_count": 3,
   "metadata": {},
   "outputs": [],
   "source": [
    "def inference(inputs):\n",
    "    x = tf.layers.conv2d(inputs,32,3)\n",
    "    return x"
   ]
  },
  {
   "cell_type": "code",
   "execution_count": 6,
   "metadata": {},
   "outputs": [],
   "source": [
    "inputs = tf.placeholder(dtype=tf.float32,shape=(None,28,28,3))"
   ]
  },
  {
   "cell_type": "code",
   "execution_count": 7,
   "metadata": {},
   "outputs": [
    {
     "name": "stdout",
     "output_type": "stream",
     "text": [
      "WARNING:tensorflow:From /home/cmf/anaconda3/lib/python3.7/site-packages/tensorflow/python/framework/op_def_library.py:263: colocate_with (from tensorflow.python.framework.ops) is deprecated and will be removed in a future version.\n",
      "Instructions for updating:\n",
      "Colocations handled automatically by placer.\n"
     ]
    }
   ],
   "source": [
    "x = inference(inputs)"
   ]
  },
  {
   "cell_type": "code",
   "execution_count": 19,
   "metadata": {},
   "outputs": [
    {
     "data": {
      "text/plain": [
       "(<tf.Tensor 'conv2d_1/BiasAdd:0' shape=(?, 26, 26, 32) dtype=float32>,\n",
       " <tf.Tensor 'Placeholder_1:0' shape=(?, 28, 28, 3) dtype=float32>)"
      ]
     },
     "execution_count": 19,
     "metadata": {},
     "output_type": "execute_result"
    }
   ],
   "source": [
    "x,inputs"
   ]
  },
  {
   "cell_type": "markdown",
   "metadata": {},
   "source": [
    "# 模型保存"
   ]
  },
  {
   "cell_type": "code",
   "execution_count": 16,
   "metadata": {},
   "outputs": [],
   "source": [
    "saver = tf.train.Saver()\n",
    "\n",
    "with tf.Session() as sess:\n",
    "\n",
    "    sess.run(tf.global_variables_initializer())\n",
    "\n",
    "    saver.save(sess,'output/tmp/model.ckpt')\n",
    "\n",
    "    tf.train.write_graph(sess.graph_def, 'output/tmp/', 'model.pb', as_text=True)"
   ]
  },
  {
   "cell_type": "markdown",
   "metadata": {},
   "source": [
    "# 使用freeze_graph进行冻结"
   ]
  },
  {
   "cell_type": "code",
   "execution_count": 18,
   "metadata": {},
   "outputs": [
    {
     "name": "stdout",
     "output_type": "stream",
     "text": [
      "WARNING:tensorflow:From /home/cmf/anaconda3/lib/python3.7/site-packages/tensorflow/python/tools/freeze_graph.py:249: FastGFile.__init__ (from tensorflow.python.platform.gfile) is deprecated and will be removed in a future version.\n",
      "Instructions for updating:\n",
      "Use tf.gfile.GFile.\n",
      "WARNING:tensorflow:From /home/cmf/anaconda3/lib/python3.7/site-packages/tensorflow/python/tools/freeze_graph.py:127: checkpoint_exists (from tensorflow.python.training.checkpoint_management) is deprecated and will be removed in a future version.\n",
      "Instructions for updating:\n",
      "Use standard file APIs to check for files with this prefix.\n",
      "2019-06-01 10:13:22.699238: I tensorflow/core/platform/cpu_feature_guard.cc:141] Your CPU supports instructions that this TensorFlow binary was not compiled to use: SSE4.1 SSE4.2 AVX AVX2 FMA\n",
      "2019-06-01 10:13:22.725859: I tensorflow/core/platform/profile_utils/cpu_utils.cc:94] CPU Frequency: 3499605000 Hz\n",
      "2019-06-01 10:13:22.727557: I tensorflow/compiler/xla/service/service.cc:150] XLA service 0x562619d33dc0 executing computations on platform Host. Devices:\n",
      "2019-06-01 10:13:22.727613: I tensorflow/compiler/xla/service/service.cc:158]   StreamExecutor device (0): <undefined>, <undefined>\n",
      "2019-06-01 10:13:22.839638: I tensorflow/stream_executor/cuda/cuda_gpu_executor.cc:998] successful NUMA node read from SysFS had negative value (-1), but there must be at least one NUMA node, so returning NUMA node zero\n",
      "2019-06-01 10:13:22.841104: I tensorflow/compiler/xla/service/service.cc:150] XLA service 0x562618c11c60 executing computations on platform CUDA. Devices:\n",
      "2019-06-01 10:13:22.841167: I tensorflow/compiler/xla/service/service.cc:158]   StreamExecutor device (0): GeForce GTX 1080 Ti, Compute Capability 6.1\n",
      "2019-06-01 10:13:22.841610: I tensorflow/core/common_runtime/gpu/gpu_device.cc:1433] Found device 0 with properties: \n",
      "name: GeForce GTX 1080 Ti major: 6 minor: 1 memoryClockRate(GHz): 1.6575\n",
      "pciBusID: 0000:42:00.0\n",
      "totalMemory: 10.91GiB freeMemory: 288.19MiB\n",
      "2019-06-01 10:13:22.841639: I tensorflow/core/common_runtime/gpu/gpu_device.cc:1512] Adding visible gpu devices: 0\n",
      "2019-06-01 10:13:22.842579: I tensorflow/core/common_runtime/gpu/gpu_device.cc:984] Device interconnect StreamExecutor with strength 1 edge matrix:\n",
      "2019-06-01 10:13:22.842598: I tensorflow/core/common_runtime/gpu/gpu_device.cc:990]      0 \n",
      "2019-06-01 10:13:22.842607: I tensorflow/core/common_runtime/gpu/gpu_device.cc:1003] 0:   N \n",
      "2019-06-01 10:13:22.842762: I tensorflow/core/common_runtime/gpu/gpu_device.cc:1115] Created TensorFlow device (/job:localhost/replica:0/task:0/device:GPU:0 with 63 MB memory) -> physical GPU (device: 0, name: GeForce GTX 1080 Ti, pci bus id: 0000:42:00.0, compute capability: 6.1)\n",
      "WARNING:tensorflow:From /home/cmf/anaconda3/lib/python3.7/site-packages/tensorflow/python/ops/control_flow_ops.py:3632: colocate_with (from tensorflow.python.framework.ops) is deprecated and will be removed in a future version.\n",
      "Instructions for updating:\n",
      "Colocations handled automatically by placer.\n",
      "WARNING:tensorflow:From /home/cmf/anaconda3/lib/python3.7/site-packages/tensorflow/python/tools/freeze_graph.py:232: convert_variables_to_constants (from tensorflow.python.framework.graph_util_impl) is deprecated and will be removed in a future version.\n",
      "Instructions for updating:\n",
      "Use tf.compat.v1.graph_util.convert_variables_to_constants\n",
      "WARNING:tensorflow:From /home/cmf/anaconda3/lib/python3.7/site-packages/tensorflow/python/framework/graph_util_impl.py:245: extract_sub_graph (from tensorflow.python.framework.graph_util_impl) is deprecated and will be removed in a future version.\n",
      "Instructions for updating:\n",
      "Use tf.compat.v1.graph_util.extract_sub_graph\n"
     ]
    }
   ],
   "source": [
    "!freeze_graph --input_graph output/tmp/model.pb \\\n",
    "--input_checkpoint output/tmp/model.ckpt \\\n",
    "--output_graph output/tmp/freeze_model.pb \\\n",
    "--output_node_names conv2d_1/BiasAdd"
   ]
  },
  {
   "cell_type": "markdown",
   "metadata": {},
   "source": [
    "# 使用tflite_convert进行转换"
   ]
  },
  {
   "cell_type": "code",
   "execution_count": 22,
   "metadata": {},
   "outputs": [
    {
     "name": "stdout",
     "output_type": "stream",
     "text": [
      "2019-06-01 10:18:24.731131: I tensorflow/core/platform/cpu_feature_guard.cc:141] Your CPU supports instructions that this TensorFlow binary was not compiled to use: SSE4.1 SSE4.2 AVX AVX2 FMA\n",
      "2019-06-01 10:18:24.757707: I tensorflow/core/platform/profile_utils/cpu_utils.cc:94] CPU Frequency: 3499605000 Hz\n",
      "2019-06-01 10:18:24.759835: I tensorflow/compiler/xla/service/service.cc:150] XLA service 0x5569e8195910 executing computations on platform Host. Devices:\n",
      "2019-06-01 10:18:24.759887: I tensorflow/compiler/xla/service/service.cc:158]   StreamExecutor device (0): <undefined>, <undefined>\n",
      "2019-06-01 10:18:24.879785: I tensorflow/stream_executor/cuda/cuda_gpu_executor.cc:998] successful NUMA node read from SysFS had negative value (-1), but there must be at least one NUMA node, so returning NUMA node zero\n",
      "2019-06-01 10:18:24.880438: I tensorflow/compiler/xla/service/service.cc:150] XLA service 0x5569e808b920 executing computations on platform CUDA. Devices:\n",
      "2019-06-01 10:18:24.880514: I tensorflow/compiler/xla/service/service.cc:158]   StreamExecutor device (0): GeForce GTX 1080 Ti, Compute Capability 6.1\n",
      "2019-06-01 10:18:24.880920: I tensorflow/core/common_runtime/gpu/gpu_device.cc:1433] Found device 0 with properties: \n",
      "name: GeForce GTX 1080 Ti major: 6 minor: 1 memoryClockRate(GHz): 1.6575\n",
      "pciBusID: 0000:42:00.0\n",
      "totalMemory: 10.91GiB freeMemory: 287.31MiB\n",
      "2019-06-01 10:18:24.880945: I tensorflow/core/common_runtime/gpu/gpu_device.cc:1512] Adding visible gpu devices: 0\n",
      "2019-06-01 10:18:24.881865: I tensorflow/core/common_runtime/gpu/gpu_device.cc:984] Device interconnect StreamExecutor with strength 1 edge matrix:\n",
      "2019-06-01 10:18:24.881885: I tensorflow/core/common_runtime/gpu/gpu_device.cc:990]      0 \n",
      "2019-06-01 10:18:24.881894: I tensorflow/core/common_runtime/gpu/gpu_device.cc:1003] 0:   N \n",
      "2019-06-01 10:18:24.882060: I tensorflow/core/common_runtime/gpu/gpu_device.cc:1115] Created TensorFlow device (/job:localhost/replica:0/task:0/device:GPU:0 with 62 MB memory) -> physical GPU (device: 0, name: GeForce GTX 1080 Ti, pci bus id: 0000:42:00.0, compute capability: 6.1)\n"
     ]
    }
   ],
   "source": [
    "!tflite_convert --output_file output/tmp/freeze_model.tflite \\\n",
    "--graph_def_file output/tmp/freeze_model.pb \\\n",
    "--output_format TFLITE \\\n",
    "--inference_type FLOAT \\\n",
    "--inference_input_type FLOAT \\\n",
    "--output_arrays conv2d_1/BiasAdd \\\n",
    "--input_arrays Placeholder_1 \\\n",
    "--input_shapes 1,28,28,3"
   ]
  },
  {
   "cell_type": "markdown",
   "metadata": {},
   "source": [
    "# 测试tflite"
   ]
  },
  {
   "cell_type": "code",
   "execution_count": 25,
   "metadata": {},
   "outputs": [
    {
     "name": "stdout",
     "output_type": "stream",
     "text": [
      "INPUTS: \n",
      "[{'name': 'Placeholder_1', 'index': 0, 'shape': array([ 1, 28, 28,  3], dtype=int32), 'dtype': <class 'numpy.float32'>, 'quantization': (0.0, 0)}]\n",
      "OUTPUTS: \n",
      "[{'name': 'conv2d_1/BiasAdd', 'index': 1, 'shape': array([ 1, 26, 26, 32], dtype=int32), 'dtype': <class 'numpy.float32'>, 'quantization': (0.0, 0)}]\n",
      "output:\n",
      "[[[[ 0.28719145 -0.16600083 -0.11733604 ... -0.15061074 -0.20447142\n",
      "    -0.27495307]\n",
      "   [ 0.29369253 -0.2272164  -0.14991726 ... -0.23214409 -0.0111625\n",
      "    -0.4493868 ]\n",
      "   [ 0.15429543 -0.1317947  -0.04077595 ... -0.15163535 -0.34605554\n",
      "    -0.36784413]\n",
      "   ...\n",
      "   [ 0.10195651 -0.04193883  0.00162613 ... -0.3153021  -0.28190997\n",
      "    -0.37845877]\n",
      "   [ 0.24441911 -0.36807358  0.16235605 ... -0.21481267 -0.17721659\n",
      "    -0.43001425]\n",
      "   [ 0.10973265  0.00355946  0.03919911 ... -0.3937525  -0.15404418\n",
      "    -0.54729503]]\n",
      "\n",
      "  [[ 0.31108633  0.03298547  0.08658881 ... -0.34510487 -0.22875144\n",
      "    -0.39901268]\n",
      "   [ 0.07186887 -0.17360124 -0.08638835 ... -0.25857487 -0.1666781\n",
      "    -0.44122022]\n",
      "   [ 0.284874    0.04971312 -0.08052474 ... -0.26330262 -0.22356701\n",
      "    -0.40774825]\n",
      "   ...\n",
      "   [ 0.10933894 -0.12965624  0.00819296 ... -0.28656098  0.0762275\n",
      "    -0.44328997]\n",
      "   [ 0.14049013 -0.05165249  0.04546344 ... -0.26555026 -0.172322\n",
      "    -0.25801936]\n",
      "   [ 0.2120871   0.01663212 -0.12394169 ... -0.15734938 -0.32449132\n",
      "    -0.28943217]]\n",
      "\n",
      "  [[ 0.3231664   0.0464742  -0.11569387 ... -0.3075575  -0.24836777\n",
      "    -0.45048988]\n",
      "   [ 0.18312477 -0.2544145  -0.0379336  ... -0.2007336  -0.17897812\n",
      "    -0.2507106 ]\n",
      "   [ 0.23450881 -0.2326923   0.07821272 ... -0.13644898 -0.14545313\n",
      "    -0.3295629 ]\n",
      "   ...\n",
      "   [ 0.31171003  0.00473755 -0.02515933 ... -0.32829735 -0.04230331\n",
      "    -0.34886584]\n",
      "   [ 0.28007078  0.06939071  0.04766535 ... -0.381321   -0.15183714\n",
      "    -0.22619918]\n",
      "   [ 0.3640106  -0.1258686   0.26970991 ... -0.15922083 -0.11761756\n",
      "    -0.21219403]]\n",
      "\n",
      "  ...\n",
      "\n",
      "  [[ 0.24908975 -0.17440923 -0.00262263 ... -0.17952366 -0.20971793\n",
      "    -0.19744216]\n",
      "   [ 0.26883897  0.05400269  0.00790097 ... -0.28620508 -0.4162389\n",
      "    -0.5066943 ]\n",
      "   [ 0.30503544 -0.29908296  0.1586188  ... -0.23851565 -0.40898937\n",
      "    -0.38727894]\n",
      "   ...\n",
      "   [ 0.27612805 -0.04015634 -0.1152166  ... -0.31009662 -0.2635329\n",
      "    -0.22631858]\n",
      "   [ 0.21466826  0.04748299 -0.13003576 ... -0.22533143 -0.23201925\n",
      "    -0.34686238]\n",
      "   [ 0.3028109  -0.18066895  0.02744788 ... -0.12382573 -0.25753382\n",
      "    -0.40447283]]\n",
      "\n",
      "  [[ 0.0725785  -0.1285668   0.15500703 ... -0.06238841 -0.18786451\n",
      "    -0.12829117]\n",
      "   [ 0.13299099 -0.18906285  0.15471232 ... -0.09447749 -0.29649854\n",
      "    -0.20292237]\n",
      "   [ 0.06240605 -0.2461568   0.05687393 ... -0.12431215 -0.15213336\n",
      "    -0.36430836]\n",
      "   ...\n",
      "   [ 0.25627324 -0.19543718  0.09680647 ... -0.12703535 -0.1601818\n",
      "    -0.407226  ]\n",
      "   [ 0.24501778 -0.10033463  0.170785   ... -0.37456417 -0.1637278\n",
      "    -0.63864684]\n",
      "   [ 0.21597391 -0.22672619  0.08064934 ... -0.3195222  -0.29361367\n",
      "    -0.41783592]]\n",
      "\n",
      "  [[ 0.04135262 -0.00436529  0.01668499 ... -0.16212687 -0.18473339\n",
      "    -0.2984978 ]\n",
      "   [ 0.32995984  0.01394286  0.12428828 ... -0.21634056 -0.11574656\n",
      "    -0.34109503]\n",
      "   [ 0.30777124 -0.10520913  0.00175224 ... -0.351703    0.133096\n",
      "    -0.26118445]\n",
      "   ...\n",
      "   [ 0.11724059 -0.1776501   0.09506302 ... -0.2696523  -0.29003\n",
      "    -0.38260376]\n",
      "   [ 0.23725425 -0.10947142 -0.03069054 ... -0.3014251  -0.33439654\n",
      "    -0.413288  ]\n",
      "   [ 0.29023388 -0.22734126 -0.15357578 ... -0.13881345 -0.17791075\n",
      "    -0.4943272 ]]]]\n"
     ]
    }
   ],
   "source": [
    "import numpy as np\n",
    "import tensorflow as tf\n",
    "\n",
    "# Load TFLite model and allocate tensors.\n",
    "interpreter = tf.lite.Interpreter(model_path='output/tmp/freeze_model.tflite')\n",
    "interpreter.allocate_tensors()\n",
    "\n",
    "# Get input and output tensors.\n",
    "input_details = interpreter.get_input_details()\n",
    "output_details = interpreter.get_output_details()\n",
    "\n",
    "print('INPUTS: ')\n",
    "print(input_details)\n",
    "print('OUTPUTS: ')\n",
    "print(output_details)\n",
    "\n",
    "# Test model on random input data.\n",
    "input_shape = input_details[0]['shape']\n",
    "input_data = np.array(np.random.random_sample(input_shape), dtype=input_details[0]['dtype'])\n",
    "interpreter.set_tensor(input_details[0]['index'], input_data)\n",
    "\n",
    "interpreter.invoke()\n",
    "output_data = interpreter.get_tensor(output_details[0]['index'])\n",
    "\n",
    "print('output:')\n",
    "print(output_data)"
   ]
  },
  {
   "cell_type": "code",
   "execution_count": null,
   "metadata": {},
   "outputs": [],
   "source": []
  }
 ],
 "metadata": {
  "kernelspec": {
   "display_name": "Python 3",
   "language": "python",
   "name": "python3"
  },
  "language_info": {
   "codemirror_mode": {
    "name": "ipython",
    "version": 3
   },
   "file_extension": ".py",
   "mimetype": "text/x-python",
   "name": "python",
   "nbconvert_exporter": "python",
   "pygments_lexer": "ipython3",
   "version": "3.7.3"
  }
 },
 "nbformat": 4,
 "nbformat_minor": 2
}
